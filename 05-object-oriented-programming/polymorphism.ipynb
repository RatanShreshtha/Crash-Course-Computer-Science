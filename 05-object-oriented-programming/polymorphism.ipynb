{
 "metadata": {
  "language_info": {
   "codemirror_mode": {
    "name": "ipython",
    "version": 3
   },
   "file_extension": ".py",
   "mimetype": "text/x-python",
   "name": "python",
   "nbconvert_exporter": "python",
   "pygments_lexer": "ipython3",
   "version": 3
  },
  "orig_nbformat": 2
 },
 "nbformat": 4,
 "nbformat_minor": 2,
 "cells": [
  {
   "source": [
    "# Polymorphism\n",
    "\n",
    "Polymorphism means “many shapes” in Greek. So we already know the power of inheritance and happily use it. But there comes this problem. Say we have a parent class and a few child classes which inherit from it. Sometimes we want to use a collection — for example a list — which contains a mix of all these classes. Or we have a method implemented for the parent class — but we’d like to use it for the children, too.\n",
    "\n",
    "This can be solved by using polymorphism.\n",
    "\n",
    "Simply put, polymorphism gives a way to use a class exactly like its parent so there’s no confusion with mixing types. But each child class keeps its own methods as they are.\n",
    "\n",
    "![Polymorphism](./images/polymorphism.png)\n",
    "\n",
    "## Benefits of Polymorphism:\n",
    "- Objects of different types can be passed through the same interface\n",
    "- Method overriding\n",
    "- Method overloading\n"
   ],
   "cell_type": "markdown",
   "metadata": {}
  }
 ]
}