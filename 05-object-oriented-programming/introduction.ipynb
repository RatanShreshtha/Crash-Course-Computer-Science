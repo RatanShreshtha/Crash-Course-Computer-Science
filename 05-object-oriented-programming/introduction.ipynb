{
 "metadata": {
  "language_info": {
   "codemirror_mode": {
    "name": "ipython",
    "version": 3
   },
   "file_extension": ".py",
   "mimetype": "text/x-python",
   "name": "python",
   "nbconvert_exporter": "python",
   "pygments_lexer": "ipython3",
   "version": 3
  },
  "orig_nbformat": 2
 },
 "nbformat": 4,
 "nbformat_minor": 2,
 "cells": [
  {
   "source": [
    "# Introduction\n",
    "\n",
    "Object Oriented Programming (OOP) is a programming paradigm that relies on the concept of classes and objects. In Object Oriented programming (OOP) related pieces of information and behaviors are grouped together into a template called a **class**. Then individual **objects** are created from the class template. The entire software program runs by having multiple objects interact with objects to create the larger program.\n",
    "\n",
    "## Why OOP?\n",
    "\n",
    "OOP makes code organized, reusable, and easy to maintain. It follows the DRY (Don’t Repeat Yourself) principle used by many programmers to make efficient programs. OOP also prevents unwanted access to data, or exposing proprietary code through encapsulation and abstraction.\n",
    "\n",
    "## Building blocks of OOP\n",
    "\n",
    "### classes\n",
    "Classes contain fields for attributes, and methods for behaviors. Classes are where the programmer creates a blueprint for the structure of methods and attributes.\n",
    "\n",
    "### objects\n",
    "Objects are instances of classes created with specific data.\n",
    "\n",
    "### attributes\n",
    "Attributes are the information that is stored. Attributes are defined in the Class template. The state of an object is defined by the data in the object’s attributes fields.\n",
    "\n",
    "### methods\n",
    "Methods represent behaviors. Methods perform actions; methods might return information about an object, or update an object’s data. The method’s code is defined in the class definition. \n",
    "\n",
    "![Object Oriented Programming](./images/oop.png)\n"
   ],
   "cell_type": "markdown",
   "metadata": {}
  },
  {
   "source": [
    "\n",
    "## Bonus Material\n",
    "\n",
    "- Oops! OOP's not what I thought\n",
    "    - By Anjana Vakil\n",
    "\n",
    "    [![Oops! OOP's not what I thought](http://img.youtube.com/vi/qMdxExJCD5s/0.jpg)](http://www.youtube.com/watch?v=qMdxExJCD5s \"Oops! OOP's not what I thought\")\n",
    "\n",
    "- Object Oriented Programming from scratch\n",
    "    - By Raymond Hettinger\n",
    "\n",
    "    [![Object Oriented Programming from scratch](http://img.youtube.com/vi/8moWQ1561FY/0.jpg)](http://www.youtube.com/watch?v=8moWQ1561FY \"Oops! OOP's not what I thought\")"
   ],
   "cell_type": "markdown",
   "metadata": {}
  }
 ]
}