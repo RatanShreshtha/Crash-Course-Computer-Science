{
 "metadata": {
  "language_info": {
   "codemirror_mode": {
    "name": "ipython",
    "version": 3
   },
   "file_extension": ".py",
   "mimetype": "text/x-python",
   "name": "python",
   "nbconvert_exporter": "python",
   "pygments_lexer": "ipython3",
   "version": 3
  },
  "orig_nbformat": 2
 },
 "nbformat": 4,
 "nbformat_minor": 2,
 "cells": [
  {
   "source": [
    "# Introduction\n",
    "\n",
    "A data structure is a particular way of organizing data in a computer so that it can be used effectively. \n",
    "\n",
    "## Abstract Data Types (ADT)\n",
    "\n",
    "**Abstract Data Types (ADT)**, is a logical description of how we view the data and the operations that are allowed without regard to how they will be implemented. This means that we are concerned only with what the data is representing and not with how it will eventually be constructed. By providing this level of abstraction, we are creating an encapsulation around the data.\n",
    "\n",
    "## Data Structure\n",
    "\n",
    "Implementation of an ADT, is referred as **data structure**, will require that we provide a physical view of the data using some collection of programming constructs and primitive data types. As we discussed earlier, the separation of these two perspectives will allow us to define the complex data models for our problems without giving any indication as to the details of how the model will actually be built. This provides an implementation-independent view of the data."
   ],
   "cell_type": "markdown",
   "metadata": {}
  }
 ]
}