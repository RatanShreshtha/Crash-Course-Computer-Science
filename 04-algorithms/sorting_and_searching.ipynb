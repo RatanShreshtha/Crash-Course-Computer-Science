{
 "cells": [
  {
   "cell_type": "markdown",
   "metadata": {},
   "source": [
    "# Searching\n",
    "\n",
    "Searching is the algorithmic process of finding a particular item in a collection of items. A search typically answers either True or False as to whether the item is present. On occasion it may be modified to return where the item is found. \n",
    "\n",
    "## The Sequential Search\n",
    "\n",
    "Data items are stored in a collection such as a list. Each data item is stored in a position relative to the others. In Python lists, these relative positions are the index values of the individual items. Since these index values are ordered, it is possible for us to visit them in sequence. This process gives rise to our first searching technique, the sequential search."
   ]
  },
  {
   "cell_type": "code",
   "execution_count": 5,
   "metadata": {},
   "outputs": [
    {
     "output_type": "stream",
     "name": "stdout",
     "text": "Element is present at index 5\nElement is present at index 4\n"
    }
   ],
   "source": [
    "def sequential_search(arr, num):\n",
    "    for indx, val in enumerate(arr): \n",
    "        if val == num: \n",
    "            return indx\n",
    "    return -1\n",
    "\n",
    "num = 15\n",
    "arr = [ 2, 3, 10, 5, 7, 15, 22, 30, 11, 40 ]; \n",
    "\n",
    "index = sequential_search(arr, num) \n",
    "\n",
    "if(index == -1): \n",
    "    print(\"Element is not present in array\") \n",
    "else: \n",
    "    print(f\"Element is present at index {index}\")\n",
    "\n",
    "\n",
    "def ordered_sequential_search(arr, num):\n",
    "    for indx, val in enumerate(arr): \n",
    "        if val == num: \n",
    "            return indx\n",
    "        if val > num:\n",
    "            return -1\n",
    "    return -1\n",
    "\n",
    "num = 15\n",
    "arr = [ 2, 3, 5, 7, 15, 22, 30]; \n",
    "\n",
    "index = ordered_sequential_search(arr, num) \n",
    "\n",
    "if(index == -1): \n",
    "    print(\"Element is not present in array\") \n",
    "else: \n",
    "    print(f\"Element is present at index {index}\")"
   ]
  },
  {
   "cell_type": "markdown",
   "metadata": {},
   "source": [
    "### Analysis of Sequential Search\n",
    "\n",
    "To analyze searching algorithms, we need to decide on a basic unit of computation. Recall that this is typically the common step that must be repeated in order to solve the problem. For searching, it makes sense to count the number of comparisons performed. Each comparison may or may not discover the item we are looking for.\n",
    "\n",
    "There are actually three different scenarios that can occur. In the best case we will find the item in the first place we look, at the beginning of the list. We will need only one comparison. In the worst case, we will not discover the item until the very last comparison, the nth comparison. On average, we will find the item about halfway into the list; that is, we will compare against `n/2`\n",
    "items.\n",
    "\n",
    "**Time Complexicities For Unorderede Sequential Serach**\n",
    "\n",
    "|                     | Best Case | Worst Case | Average Case |\n",
    "| ------------------: | :-------: | :--------: | :----------: |\n",
    "|     item is present |    `1`    |    `𝑛`     |    `𝑛/2`     |\n",
    "| item is not present |    `𝑛`    |    `𝑛`     |     `𝑛`      |\n",
    "\n",
    "If the list of items was constructed so that the items were in ascending order, from low to high. If the item we are looking for is present in the list, the chance of it being in any one of the n positions is still the same as before. We will still have the same number of comparisons to find the item. However, if the item is not present there is a slight advantage. In this case, the algorithm does not have to continue looking through all of the items to report that the item was not found. It can stop immediately as soon as an item greater than the one we are looking for is found.\n",
    "\n",
    "**Time Complexicities For Orderede Sequential Serach**\n",
    "\n",
    "|                     | Best Case | Worst Case | Average Case |\n",
    "| ------------------: | :-------: | :--------: | :----------: |\n",
    "|     item is present |    `1`    |    `𝑛`     |    `𝑛/2`     |\n",
    "| item is not present |    `𝑛`    |    `𝑛`     |    `𝑛/2`     |\n"
   ]
  },
  {
   "cell_type": "markdown",
   "metadata": {},
   "source": [
    "## The Binary Search\n",
    "\n",
    "Binary search will start by examining the middle item. If that item is the one we are searching for, we are done. If it is not the correct item, we can use the ordered nature of the list to eliminate half of the remaining items. If the item we are searching for is greater than the middle item, we know that the entire lower half of the list as well as the middle item can be eliminated from further consideration. The item, if it is in the list, must be in the upper half. Similarly, if the item we are searching for is less than the middle item, we know that the entire upper half of the list as well as the middle item can be eliminated from further consideration. The item, if it is in the list, must be in the lower half.\n",
    "\n",
    "We can then repeat the process with the upper half/lower half. Start at the middle item and compare it against what we are looking for. Again, we either find it or split the list in half, therefore eliminating another large part of our possible search space."
   ]
  },
  {
   "cell_type": "code",
   "execution_count": 13,
   "metadata": {},
   "outputs": [
    {
     "output_type": "stream",
     "name": "stdout",
     "text": "Element is present at index 4\n"
    }
   ],
   "source": [
    "def binary_search(arr, num):\n",
    "    low = 0\n",
    "    high = len(arr) - 1\n",
    "\n",
    "    while low <= high:\n",
    "        mid = (low + high) // 2\n",
    "        \n",
    "        if arr[mid] == num:\n",
    "            return mid\n",
    "        \n",
    "        if num > arr[mid]:\n",
    "            low = mid + 1\n",
    "\n",
    "        if num < arr[mid]:\n",
    "            high = mid - 1\n",
    "    \n",
    "    return -1\n",
    "\n",
    "num = 15\n",
    "arr = [2, 3, 5, 7, 15, 22, 30]; \n",
    "\n",
    "index = binary_search(arr, num) \n",
    "\n",
    "if(index == -1): \n",
    "    print(\"Element is not present in array\") \n",
    "else: \n",
    "    print(f\"Element is present at index {index}\")"
   ]
  },
  {
   "cell_type": "markdown",
   "metadata": {},
   "source": [
    "### Analysis of Binary Search\n",
    "\n",
    "To analyze the binary search algorithm, we need to recall that each comparison eliminates about half of the remaining items from consideration. What is the maximum number of comparisons this algorithm will require to check the entire list? If we start with n items, about `𝑛/2` items will be left after the first comparison. After the second comparison, there will be about `𝑛/4`. Then `𝑛/8`, `𝑛/16`, and so on.\n",
    "\n",
    "The number of comparisons necessary to get to this point is i where `𝑛/2^𝑖=1`. Solving for i gives us `𝑖=log𝑛`. The maximum number of comparisons is logarithmic with respect to the number of items in the list. Therefore, the binary search is **𝑂(log𝑛)**."
   ]
  }
 ],
 "metadata": {
  "language_info": {
   "codemirror_mode": {
    "name": "ipython",
    "version": 3
   },
   "file_extension": ".py",
   "mimetype": "text/x-python",
   "name": "python",
   "nbconvert_exporter": "python",
   "pygments_lexer": "ipython3",
   "version": "3.8.0-final"
  },
  "orig_nbformat": 2,
  "kernelspec": {
   "name": "python38064bitd4af1785cb474643b30ff2a863167f41",
   "display_name": "Python 3.8.0 64-bit"
  }
 },
 "nbformat": 4,
 "nbformat_minor": 2
}